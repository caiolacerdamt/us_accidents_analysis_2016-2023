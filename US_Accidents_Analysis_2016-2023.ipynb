{
 "cells": [
  {
   "cell_type": "markdown",
   "id": "b7525c15",
   "metadata": {},
   "source": [
    "## Data Analysis and Science: US Accidents (2016-2023)\n",
    " \n",
    "#### This notebook aims to perform a comprehensive and exploratory analysis of accidents in the USA from 2016 to 2023.\n",
    "\n",
    "## Objectives\n",
    "\n",
    "- Explore the trends and patterns in traffic accidents during the specified period.\n",
    "- Identify the factors contributing to the occurrence and severity of accidents.\n",
    "- Build predictive models to forecast accident severity based on various characteristics.\n"
   ]
  },
  {
   "cell_type": "markdown",
   "id": "fabbd04a",
   "metadata": {},
   "source": [
    "#### Acknowledgements\n",
    "\n",
    "* Moosavi, Sobhan, Mohammad Hossein Samavatian, Srinivasan Parthasarathy, and Rajiv Ramnath. <a href=\"https://arxiv.org/abs/1906.05409\"> “A Countrywide Traffic Accident Dataset.”</a>, 2019.\n",
    "\n",
    "* Moosavi, Sobhan, Mohammad Hossein Samavatian, Srinivasan Parthasarathy, Radu Teodorescu, and Rajiv Ramnath. <a href=\"https://arxiv.org/abs/1909.09638\">\"Accident Risk Prediction based on Heterogeneous Sparse Data: New Dataset and Insights.\"</a> In proceedings of the 27th ACM SIGSPATIAL International Conference on Advances in Geographic Information Systems, ACM, 2019."
   ]
  },
  {
   "cell_type": "code",
   "execution_count": null,
   "id": "24a5e55c",
   "metadata": {},
   "outputs": [],
   "source": []
  }
 ],
 "metadata": {
  "kernelspec": {
   "display_name": "Python 3 (ipykernel)",
   "language": "python",
   "name": "python3"
  },
  "language_info": {
   "codemirror_mode": {
    "name": "ipython",
    "version": 3
   },
   "file_extension": ".py",
   "mimetype": "text/x-python",
   "name": "python",
   "nbconvert_exporter": "python",
   "pygments_lexer": "ipython3",
   "version": "3.11.5"
  }
 },
 "nbformat": 4,
 "nbformat_minor": 5
}
